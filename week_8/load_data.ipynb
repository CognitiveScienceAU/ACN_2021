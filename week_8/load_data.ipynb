{
 "cells": [
  {
   "cell_type": "code",
   "execution_count": null,
   "id": "2d510885-1ddd-4103-966c-b676f8621bc5",
   "metadata": {},
   "outputs": [],
   "source": [
    "%matplotlib inline"
   ]
  },
  {
   "cell_type": "code",
   "execution_count": null,
   "id": "e780bc5a-03de-4c82-8102-2cdd74b342ce",
   "metadata": {},
   "outputs": [],
   "source": [
    "import mne\n",
    "import pandas as pd"
   ]
  },
  {
   "cell_type": "code",
   "execution_count": null,
   "id": "c656992d-a91f-4d41-9719-8b4070cc660e",
   "metadata": {},
   "outputs": [],
   "source": [
    "tmin, tmax = 0.2, "
   ]
  },
  {
   "cell_type": "code",
   "execution_count": null,
   "id": "182821f0-17ef-4412-8278-22692d3a48bd",
   "metadata": {},
   "outputs": [],
   "source": [
    "raw = mne.io.read_raw_fif('/Users/au194693/tmp/data/acn/p1-raw.fif')\n",
    "raw.load_data()"
   ]
  },
  {
   "cell_type": "code",
   "execution_count": null,
   "id": "ff68d76b-e360-45c9-b51a-27119e38960f",
   "metadata": {},
   "outputs": [],
   "source": [
    "events, _ = mne.events_from_annotations(raw)"
   ]
  },
  {
   "cell_type": "code",
   "execution_count": null,
   "id": "f2d52d1e-b700-4de9-bc0d-8fb7815fdb7f",
   "metadata": {},
   "outputs": [],
   "source": [
    "event_id = {'S20': 20, 'S11': 11, 'S10': 10}"
   ]
  },
  {
   "cell_type": "code",
   "execution_count": null,
   "id": "8fa3df9d-9a63-4f20-b33e-092dc898331c",
   "metadata": {},
   "outputs": [],
   "source": [
    "mne.viz.plot_events(events[:50], sfreq=250, first_samp=raw.first_samp, event_id=event_id);"
   ]
  },
  {
   "cell_type": "code",
   "execution_count": null,
   "id": "7912b815-1b0b-4c6e-909f-a1a9597bd55f",
   "metadata": {},
   "outputs": [],
   "source": []
  }
 ],
 "metadata": {
  "kernelspec": {
   "display_name": "Python 3 (ipykernel)",
   "language": "python",
   "name": "python3"
  },
  "language_info": {
   "codemirror_mode": {
    "name": "ipython",
    "version": 3
   },
   "file_extension": ".py",
   "mimetype": "text/x-python",
   "name": "python",
   "nbconvert_exporter": "python",
   "pygments_lexer": "ipython3",
   "version": "3.9.4"
  },
  "toc": {
   "base_numbering": 1,
   "nav_menu": {},
   "number_sections": true,
   "sideBar": true,
   "skip_h1_title": false,
   "title_cell": "Table of Contents",
   "title_sidebar": "Contents",
   "toc_cell": false,
   "toc_position": {},
   "toc_section_display": true,
   "toc_window_display": false
  }
 },
 "nbformat": 4,
 "nbformat_minor": 5
}

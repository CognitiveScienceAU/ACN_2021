{
 "cells": [
  {
   "cell_type": "code",
   "execution_count": null,
   "metadata": {},
   "outputs": [],
   "source": [
    "%matplotlib inline"
   ]
  },
  {
   "cell_type": "markdown",
   "metadata": {},
   "source": [
    "This notebook is based on:\n",
    "\n",
    "https://mne.tools/stable/auto_tutorials/stats-sensor-space/75_cluster_ftest_spatiotemporal.html"
   ]
  },
  {
   "cell_type": "markdown",
   "metadata": {
    "pycharm": {
     "name": "#%% md\n"
    }
   },
   "source": [
    "# Spatiotemporal permutation F-test on full sensor data\n",
    "\n",
    "Tests for differential evoked responses in at least\n",
    "one condition using a permutation clustering test.\n",
    "The FieldTrip neighbor templates will be used to determine\n",
    "the adjacency between sensors. This serves as a spatial prior\n",
    "to the clustering. Spatiotemporal clusters will then\n",
    "be visualized using custom matplotlib code."
   ]
  },
  {
   "cell_type": "code",
   "execution_count": null,
   "metadata": {},
   "outputs": [],
   "source": [
    "from mpl_toolkits.axes_grid1 import make_axes_locatable\n",
    "\n",
    "from mne.stats import spatio_temporal_cluster_test\n",
    "from mne.channels import find_ch_adjacency\n",
    "from mne.viz import plot_compare_evokeds"
   ]
  },
  {
   "cell_type": "markdown",
   "metadata": {},
   "source": [
    "## Read epochs\n",
    "\n"
   ]
  },
  {
   "cell_type": "markdown",
   "metadata": {},
   "source": [
    "Your pipeline from the previous notebook(s) should go here. Basically from reading the raw to the epoching needs to be done here.\n",
    "\n",
    "Once it is all epoched you can continue. _Remember to equalise your conditions!_\n",
    "\n",
    "The MNE-python stats functions work on a numpy array with the shape: \n",
    "\n",
    "- n_observations $\\times$ n_times $\\times$ n_channels/n_vertices\n",
    "\n",
    "So we need to extract the data and then transform it to the right shape. _Remember_ MNE-python epochs are in the shape:\n",
    "\n",
    "- n_observations $\\times$ n_channels/n_verticies $\\times$ n_times\n",
    "\n",
    "n_channels/n_verticies is because the functions works both on sensor space and source space data.\n",
    "\n",
    "\n",
    "You should also select just two conditions, e.g. left vs right auditory or auditory vs visual."
   ]
  },
  {
   "cell_type": "code",
   "execution_count": null,
   "metadata": {},
   "outputs": [],
   "source": [
    "X = [epochs[k].get_data() for k in event_dict]  # as 3D matrix\n",
    "X = [np.transpose(x, (0, 2, 1)) for x in X]  # transpose for clustering"
   ]
  },
  {
   "cell_type": "markdown",
   "metadata": {},
   "source": [
    "## Find the FieldTrip neighbor definition to setup sensor adjacency\n",
    "\n"
   ]
  },
  {
   "cell_type": "code",
   "execution_count": null,
   "metadata": {},
   "outputs": [],
   "source": [
    "adjacency, ch_names = find_ch_adjacency(epochs.info, ch_type='eeg')\n",
    "\n",
    "print(type(adjacency))  # it's a sparse matrix!\n",
    "\n",
    "plt.imshow(adjacency.toarray(), cmap='gray', origin='lower',\n",
    "           interpolation='nearest')\n",
    "plt.xlabel('{} EEG'.format(len(ch_names)))\n",
    "plt.ylabel('{} EEG'.format(len(ch_names)))\n",
    "plt.title('Between-sensor adjacency')"
   ]
  },
  {
   "cell_type": "markdown",
   "metadata": {},
   "source": [
    "## Compute permutation statistic\n",
    "\n",
    "How does it work? We use clustering to \"bind\" together features which are\n",
    "similar. Our features are the magnetic fields measured over our sensor\n",
    "array at different times. This reduces the multiple comparison problem.\n",
    "To compute the actual test-statistic, we first sum all F-values in all\n",
    "clusters. We end up with one statistic for each cluster.\n",
    "Then we generate a distribution from the data by shuffling our conditions\n",
    "between our samples and recomputing our clusters and the test statistics.\n",
    "We test for the significance of a given cluster by computing the probability\n",
    "of observing a cluster of that size. For more background read:\n",
    "Maris/Oostenveld (2007), \"Nonparametric statistical testing of EEG- and\n",
    "MEG-data\" Journal of Neuroscience Methods, Vol. 164, No. 1., pp. 177-190.\n",
    "doi:10.1016/j.jneumeth.2007.03.024\n",
    "\n"
   ]
  },
  {
   "cell_type": "markdown",
   "metadata": {},
   "source": [
    "## TASK\n",
    "\n",
    "Look up what the different parameters in the function does!"
   ]
  },
  {
   "cell_type": "code",
   "execution_count": null,
   "metadata": {},
   "outputs": [],
   "source": [
    "# set family-wise p-value\n",
    "p_accept = 0.05\n",
    "\n",
    "cluster_stats = spatio_temporal_cluster_test(X, n_permutations=2000,\n",
    "                                             threshold=None, tail=0,\n",
    "                                             n_jobs=1, buffer_size=None,\n",
    "                                             adjacency=adjacency)\n",
    "\n",
    "T_obs, clusters, p_values, _ = cluster_stats\n",
    "good_cluster_inds = np.where(p_values < p_accept)[0]"
   ]
  },
  {
   "cell_type": "markdown",
   "metadata": {},
   "source": [
    "Note. The same functions work with source estimate. The only differences\n",
    "are the origin of the data, the size, and the adjacency definition.\n",
    "It can be used for single trials or for groups of subjects.\n",
    "\n",
    "## Visualize clusters\n",
    "\n"
   ]
  },
  {
   "cell_type": "markdown",
   "metadata": {},
   "source": [
    "**Adjust the visualization to the conditions you have selected!**"
   ]
  },
  {
   "cell_type": "code",
   "execution_count": null,
   "metadata": {},
   "outputs": [],
   "source": [
    "# configure variables for visualization\n",
    "colors = {\"Aud\": \"crimson\", \"Vis\": 'steelblue'}\n",
    "linestyles = {\"L\": '-', \"R\": '--'}\n",
    "\n",
    "# organize data for plotting\n",
    "evokeds = {cond: epochs[cond].average() for cond in event_id}\n",
    "\n",
    "# loop over clusters\n",
    "for i_clu, clu_idx in enumerate(good_cluster_inds):\n",
    "    # unpack cluster information, get unique indices\n",
    "    time_inds, space_inds = np.squeeze(clusters[clu_idx])\n",
    "    ch_inds = np.unique(space_inds)\n",
    "    time_inds = np.unique(time_inds)\n",
    "\n",
    "    # get topography for F stat\n",
    "    f_map = T_obs[time_inds, ...].mean(axis=0)\n",
    "\n",
    "    # get signals at the sensors contributing to the cluster\n",
    "    sig_times = epochs.times[time_inds]\n",
    "\n",
    "    # create spatial mask\n",
    "    mask = np.zeros((f_map.shape[0], 1), dtype=bool)\n",
    "    mask[ch_inds, :] = True\n",
    "\n",
    "    # initialize figure\n",
    "    fig, ax_topo = plt.subplots(1, 1, figsize=(10, 3))\n",
    "\n",
    "    # plot average test statistic and mark significant sensors\n",
    "    f_evoked = mne.EvokedArray(f_map[:, np.newaxis], epochs.info, tmin=0)\n",
    "    f_evoked.plot_topomap(times=0, mask=mask, axes=ax_topo, cmap='Reds',\n",
    "                          vmin=np.min, vmax=np.max, show=False,\n",
    "                          colorbar=False, mask_params=dict(markersize=10))\n",
    "    image = ax_topo.images[0]\n",
    "\n",
    "    # create additional axes (for ERF and colorbar)\n",
    "    divider = make_axes_locatable(ax_topo)\n",
    "\n",
    "    # add axes for colorbar\n",
    "    ax_colorbar = divider.append_axes('right', size='5%', pad=0.05)\n",
    "    plt.colorbar(image, cax=ax_colorbar)\n",
    "    ax_topo.set_xlabel(\n",
    "        'Averaged F-map ({:0.3f} - {:0.3f} s)'.format(*sig_times[[0, -1]]))\n",
    "\n",
    "    # add new axis for time courses and plot time courses\n",
    "    ax_signals = divider.append_axes('right', size='300%', pad=1.2)\n",
    "    title = 'Cluster #{0}, {1} sensor'.format(i_clu + 1, len(ch_inds))\n",
    "    if len(ch_inds) > 1:\n",
    "        title += \"s (mean)\"\n",
    "    plot_compare_evokeds(evokeds, title=title, picks=ch_inds, axes=ax_signals,\n",
    "                         colors=colors, linestyles=linestyles, show=False,\n",
    "                         split_legend=True, truncate_yaxis='auto')\n",
    "\n",
    "    # plot temporal cluster extent\n",
    "    ymin, ymax = ax_signals.get_ylim()\n",
    "    ax_signals.fill_betweenx((ymin, ymax), sig_times[0], sig_times[-1],\n",
    "                             color='orange', alpha=0.3)\n",
    "\n",
    "    # clean up viz\n",
    "    mne.viz.tight_layout(fig=fig)\n",
    "    fig.subplots_adjust(bottom=.05)\n",
    "    plt.show()"
   ]
  },
  {
   "cell_type": "markdown",
   "metadata": {},
   "source": [
    "## Exercises\n",
    "\n",
    "- What is the smallest p-value you can obtain, given the finite number of\n",
    "  permutations?\n",
    "\n"
   ]
  }
 ],
 "metadata": {
  "kernelspec": {
   "display_name": "Python 3",
   "language": "python",
   "name": "python3"
  },
  "language_info": {
   "codemirror_mode": {
    "name": "ipython",
    "version": 3
   },
   "file_extension": ".py",
   "mimetype": "text/x-python",
   "name": "python",
   "nbconvert_exporter": "python",
   "pygments_lexer": "ipython3",
   "version": "3.8.3"
  }
 },
 "nbformat": 4,
 "nbformat_minor": 4
}

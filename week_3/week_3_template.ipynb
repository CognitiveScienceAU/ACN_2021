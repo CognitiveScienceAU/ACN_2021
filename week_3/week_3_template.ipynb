{
 "cells": [
  {
   "cell_type": "code",
   "execution_count": null,
   "id": "1d78ae00-89ec-41d8-bd8f-b7bc6fd3659d",
   "metadata": {},
   "outputs": [],
   "source": [
    "%matplotlib inline"
   ]
  },
  {
   "cell_type": "code",
   "execution_count": null,
   "id": "efb9dd76-f0d4-4605-914e-0386d85b0de5",
   "metadata": {},
   "outputs": [],
   "source": [
    "import os\n",
    "\n",
    "import mne\n",
    "import numpy as np\n"
   ]
  },
  {
   "cell_type": "markdown",
   "id": "405ef179-ecbb-4980-a377-b42f18db5997",
   "metadata": {
    "pycharm": {
     "name": "#%% md\n"
    }
   },
   "source": [
    "# Preprocessing\n",
    "The steps in EEG preprocessing:\n",
    "\n",
    "* Highpass filter\n",
    "* Lowpass filter\n",
    "* Artefact rejection\n",
    "    * Ocular artifacts (EOG)\n",
    "    * Heartbeat artifacts (ECG)\n",
    "    * Power line noise\n",
    "    * Methods:\n",
    "        * Thresholding\n",
    "        * ICA\n",
    "* (Rereference)\n",
    "* Epoching\n",
    "* Evokeds (i.e. averaging)\n"
   ]
  },
  {
   "cell_type": "code",
   "execution_count": null,
   "id": "68999cc1-8ad2-4c9e-a06f-cb7291e95768",
   "metadata": {},
   "outputs": [],
   "source": [
    "sample_data_folder = mne.datasets.sample.data_path()\n",
    "sample_data_raw_file = os.path.join(sample_data_folder, 'MEG', 'sample',\n",
    "                                    'sample_audvis_filt-0-40_raw.fif')"
   ]
  },
  {
   "cell_type": "code",
   "execution_count": null,
   "id": "56da7c90-a19e-468f-bb3b-502bc484169f",
   "metadata": {},
   "outputs": [],
   "source": [
    "raw = mne.io.read_raw_fif(sample_data_raw_file, preload=True)"
   ]
  },
  {
   "cell_type": "code",
   "execution_count": null,
   "id": "86e3390c-c7b5-43f5-a8c0-4c0c58bddb7d",
   "metadata": {},
   "outputs": [],
   "source": [
    "raw.pick_types(meg=False, eeg=True, stim=True)"
   ]
  },
  {
   "cell_type": "code",
   "execution_count": null,
   "id": "25f654cf-bd12-440e-a4fd-5f043c2c3c37",
   "metadata": {},
   "outputs": [],
   "source": [
    "# filter your data"
   ]
  },
  {
   "cell_type": "markdown",
   "id": "9cf4f7b4-8712-4193-81a4-2e57e897b704",
   "metadata": {},
   "source": [
    "Default filtering for the sample data is:\n",
    "* highpass: 0.1 Hz\n",
    "* lowpass: 40 Hz\n",
    "\n",
    "You can see this by:\n",
    "print(raw.info)"
   ]
  },
  {
   "cell_type": "code",
   "execution_count": null,
   "id": "2833e13a-75e3-4122-bd99-687e9d0bf975",
   "metadata": {},
   "outputs": [],
   "source": [
    "# set up and fit the ICA\n",
    "ica = mne.preprocessing.ICA(n_components=20, random_state=97, max_iter=800)\n",
    "ica.fit(raw)\n",
    "ica.exclude = [0, 2]  # details on how we picked these are omitted here\n",
    "ica.plot_properties(raw, picks=ica.exclude);"
   ]
  },
  {
   "cell_type": "code",
   "execution_count": null,
   "id": "081bda81-6e10-4eb3-8d9a-f3bb30ed3b43",
   "metadata": {},
   "outputs": [],
   "source": [
    "ica.plot_components();"
   ]
  },
  {
   "cell_type": "code",
   "execution_count": null,
   "id": "01d8514e-c274-40f3-9fb0-d99f6cddd5bb",
   "metadata": {
    "pycharm": {
     "name": "#%%\n"
    }
   },
   "outputs": [],
   "source": [
    "#Plotting the time series of the ICA.\n",
    "ica.plot_sources(raw, show_scrollbars=False)"
   ]
  },
  {
   "cell_type": "code",
   "execution_count": null,
   "id": "670e32dd-3b72-4bf1-b85e-0051b4dcbd28",
   "metadata": {},
   "outputs": [],
   "source": [
    "orig_raw = raw.copy()\n",
    "raw.load_data()\n",
    "ica.apply(raw)"
   ]
  },
  {
   "cell_type": "markdown",
   "id": "d20d81c0-3dce-472a-88dc-9e27f48d599e",
   "metadata": {
    "pycharm": {
     "is_executing": true,
     "name": "#%% md\n"
    }
   },
   "source": [
    "There are many options with ICA, see\n",
    "https://mne.tools/stable/auto_tutorials/preprocessing/40_artifact_correction_ica.html\n",
    "for a tutorial on ICA in MNE-python."
   ]
  },
  {
   "cell_type": "code",
   "execution_count": null,
   "id": "c058d801-e7ff-4547-b23a-57a8efefb0ea",
   "metadata": {
    "collapsed": false,
    "jupyter": {
     "outputs_hidden": false
    },
    "pycharm": {
     "name": "#%%\n"
    }
   },
   "outputs": [],
   "source": [
    "# the stimulus channel on the Electra vector view is: STI 014\n",
    "events = ???"
   ]
  },
  {
   "cell_type": "code",
   "execution_count": null,
   "id": "fd3a9d43-2c98-4e75-8b2b-3ee6f15489b5",
   "metadata": {},
   "outputs": [],
   "source": [
    "events = mne.find_events(raw)"
   ]
  },
  {
   "cell_type": "code",
   "execution_count": null,
   "id": "ac68eadd-ef95-4985-a449-1f17d1b229e0",
   "metadata": {},
   "outputs": [],
   "source": [
    "event_dict = {'auditory/left': 1,\n",
    "              'auditory/right': 2,\n",
    "              'visual/left': 3,\n",
    "              'visual/right': 4,\n",
    "              }"
   ]
  },
  {
   "cell_type": "code",
   "execution_count": null,
   "id": "ea1174bf-2d4e-49ea-a0fd-c11067a4e3eb",
   "metadata": {},
   "outputs": [],
   "source": [
    "reject_criteria = dict(eeg=150e-6)  # 150 µV\n"
   ]
  },
  {
   "cell_type": "code",
   "execution_count": null,
   "id": "40ebc228-6287-49cf-8506-2d04f441b10c",
   "metadata": {
    "pycharm": {
     "name": "#%%\n"
    }
   },
   "outputs": [],
   "source": [
    "conds_we_care_about = ['auditory/left', 'auditory/right',\n",
    "                       'visual/left', 'visual/right']\n"
   ]
  },
  {
   "cell_type": "code",
   "execution_count": null,
   "id": "b24a6b17-5a7c-477e-afa2-af13e4b1aa1b",
   "metadata": {},
   "outputs": [],
   "source": [
    "reject = dict(eeg=150e-6)\n",
    "picks = mne.pick_types(raw.info, meg=False, eeg=True, eog=True)\n",
    "\n",
    "epochs = mne.Epochs(raw, events, event_dict, -.2, 0.5, picks=picks,\n",
    "                    baseline=None, reject=reject, preload=True)\n"
   ]
  },
  {
   "cell_type": "markdown",
   "id": "8da5253c-abb4-4d40-9f1b-431792496c30",
   "metadata": {
    "pycharm": {
     "name": "#%% md\n"
    }
   },
   "source": [
    "# Comparing evokeds\n",
    "\n",
    "To visually comparing different evoked objects it is a good idea to calculate\n",
    " a _difference  wave_, i.e. one condition minus the other condition. In\n",
    " MNE-python ```mne.combine_evokeds```can do that."
   ]
  },
  {
   "cell_type": "code",
   "execution_count": null,
   "id": "fbd0f62b-1d88-4453-8c3b-68594642fcc9",
   "metadata": {
    "pycharm": {
     "name": "#%%\n"
    }
   },
   "outputs": [],
   "source": [
    "# Change to your evokeds\n",
    "difference_wave = mne.combine_evoked([Evoked_0, Evoked_2], weights=[1, -1])\n"
   ]
  },
  {
   "cell_type": "markdown",
   "id": "cde73010-036e-4266-8b20-8aa030f00fa2",
   "metadata": {
    "pycharm": {
     "name": "#%% md\n"
    }
   },
   "source": [
    "See also:\n",
    "https://mne.tools/stable/generated/mne.viz.plot_compare_evokeds.html"
   ]
  }
 ],
 "metadata": {
  "kernelspec": {
   "display_name": "Python 3",
   "language": "python",
   "name": "python3"
  },
  "language_info": {
   "codemirror_mode": {
    "name": "ipython",
    "version": 3
   },
   "file_extension": ".py",
   "mimetype": "text/x-python",
   "name": "python",
   "nbconvert_exporter": "python",
   "pygments_lexer": "ipython3",
   "version": "3.8.3"
  }
 },
 "nbformat": 4,
 "nbformat_minor": 5
}

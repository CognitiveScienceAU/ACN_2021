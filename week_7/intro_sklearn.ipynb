{
 "cells": [
  {
   "cell_type": "code",
   "execution_count": 1,
   "metadata": {},
   "outputs": [],
   "source": [
    "%matplotlib inline"
   ]
  },
  {
   "cell_type": "code",
   "execution_count": 2,
   "metadata": {},
   "outputs": [],
   "source": [
    "import numpy as np\n",
    "import matplotlib.pyplot as plt"
   ]
  },
  {
   "cell_type": "code",
   "execution_count": 3,
   "metadata": {},
   "outputs": [],
   "source": [
    "from sklearn.datasets import make_classification, make_regression\n",
    "from sklearn.linear_model import LogisticRegression\n",
    "from sklearn.model_selection import train_test_split\n",
    "from sklearn.metrics import roc_auc_score"
   ]
  },
  {
   "cell_type": "code",
   "execution_count": 5,
   "metadata": {},
   "outputs": [],
   "source": [
    "X, y = make_classification(n_samples=400, \n",
    "                           n_features=20,\n",
    "                           n_informative=4,\n",
    "                           random_state=319) "
   ]
  },
  {
   "cell_type": "code",
   "execution_count": 6,
   "metadata": {},
   "outputs": [
    {
     "data": {
      "text/plain": [
       "(400,)"
      ]
     },
     "execution_count": 6,
     "metadata": {},
     "output_type": "execute_result"
    }
   ],
   "source": [
    "y.shape"
   ]
  },
  {
   "cell_type": "code",
   "execution_count": 10,
   "metadata": {},
   "outputs": [
    {
     "data": {
      "text/plain": [
       "(400, 20)"
      ]
     },
     "execution_count": 10,
     "metadata": {},
     "output_type": "execute_result"
    }
   ],
   "source": [
    "X.shape"
   ]
  },
  {
   "cell_type": "code",
   "execution_count": 12,
   "metadata": {},
   "outputs": [],
   "source": [
    "X_train, X_test, y_train, y_test = train_test_split(\n",
    "    X, y, test_size=0.2, random_state=456)"
   ]
  },
  {
   "cell_type": "markdown",
   "metadata": {},
   "source": [
    "# Fitting a model"
   ]
  },
  {
   "cell_type": "code",
   "execution_count": 13,
   "metadata": {},
   "outputs": [],
   "source": [
    "model = LogisticRegression()"
   ]
  },
  {
   "cell_type": "code",
   "execution_count": 14,
   "metadata": {},
   "outputs": [
    {
     "data": {
      "text/plain": [
       "{'C': 1.0,\n",
       " 'class_weight': None,\n",
       " 'dual': False,\n",
       " 'fit_intercept': True,\n",
       " 'intercept_scaling': 1,\n",
       " 'l1_ratio': None,\n",
       " 'max_iter': 100,\n",
       " 'multi_class': 'auto',\n",
       " 'n_jobs': None,\n",
       " 'penalty': 'l2',\n",
       " 'random_state': None,\n",
       " 'solver': 'lbfgs',\n",
       " 'tol': 0.0001,\n",
       " 'verbose': 0,\n",
       " 'warm_start': False}"
      ]
     },
     "execution_count": 14,
     "metadata": {},
     "output_type": "execute_result"
    }
   ],
   "source": [
    "model.get_params()"
   ]
  },
  {
   "cell_type": "code",
   "execution_count": 16,
   "metadata": {},
   "outputs": [
    {
     "data": {
      "text/plain": [
       "LogisticRegression()"
      ]
     },
     "execution_count": 16,
     "metadata": {},
     "output_type": "execute_result"
    }
   ],
   "source": [
    "model.fit(X_train, y_train)"
   ]
  },
  {
   "cell_type": "code",
   "execution_count": 17,
   "metadata": {},
   "outputs": [
    {
     "data": {
      "text/plain": [
       "array([1, 1, 1, 1, 0, 0, 0, 1, 1, 1, 1, 0, 0, 0, 1, 1, 0, 0, 1, 0, 1, 1,\n",
       "       1, 0, 0, 0, 0, 1, 0, 1, 0, 1, 1, 0, 1, 1, 1, 1, 0, 0, 1, 1, 1, 0,\n",
       "       0, 0, 1, 1, 1, 1, 1, 0, 0, 0, 0, 1, 0, 1, 1, 0, 1, 0, 1, 0, 1, 0,\n",
       "       1, 0, 1, 0, 0, 1, 0, 0, 1, 1, 1, 1, 0, 0])"
      ]
     },
     "execution_count": 17,
     "metadata": {},
     "output_type": "execute_result"
    }
   ],
   "source": [
    "model.predict(X_test)"
   ]
  },
  {
   "cell_type": "code",
   "execution_count": 18,
   "metadata": {},
   "outputs": [
    {
     "data": {
      "text/plain": [
       "array([1, 1, 0, 0, 0, 0, 0, 0, 1, 1, 1, 1, 1, 0, 1, 1, 0, 0, 1, 1, 1, 0,\n",
       "       1, 0, 0, 0, 1, 1, 0, 0, 0, 1, 1, 0, 0, 1, 1, 0, 1, 0, 1, 1, 1, 0,\n",
       "       0, 0, 1, 1, 1, 1, 0, 0, 0, 0, 0, 1, 0, 1, 1, 0, 0, 1, 1, 1, 0, 1,\n",
       "       1, 0, 0, 0, 0, 0, 0, 1, 1, 1, 1, 1, 0, 0])"
      ]
     },
     "execution_count": 18,
     "metadata": {},
     "output_type": "execute_result"
    }
   ],
   "source": [
    "y_test"
   ]
  },
  {
   "cell_type": "code",
   "execution_count": 19,
   "metadata": {},
   "outputs": [
    {
     "data": {
      "text/plain": [
       "0.7374999999999999"
      ]
     },
     "execution_count": 19,
     "metadata": {},
     "output_type": "execute_result"
    }
   ],
   "source": [
    "roc_auc_score(y_test, model.predict(X_test))"
   ]
  },
  {
   "cell_type": "code",
   "execution_count": 20,
   "metadata": {},
   "outputs": [
    {
     "data": {
      "text/plain": [
       "array([[-0.2057935 ,  0.54226485, -0.03090412, -0.01577295,  0.06877635,\n",
       "         0.10191679, -0.03347374,  0.08108813,  0.02797567,  0.44881654,\n",
       "         0.13845209, -0.13675989, -0.04539756, -0.17579141,  0.30156148,\n",
       "        -0.05377287,  0.02380302, -0.17509133, -0.05606177, -0.10919213]])"
      ]
     },
     "execution_count": 20,
     "metadata": {},
     "output_type": "execute_result"
    }
   ],
   "source": [
    "model.coef_"
   ]
  },
  {
   "cell_type": "code",
   "execution_count": 23,
   "metadata": {},
   "outputs": [
    {
     "data": {
      "text/plain": [
       "array([[0.81400115, 1.71989777, 0.96956853, 0.98435079, 1.07119661,\n",
       "        1.10729133, 0.96708031, 1.08446646, 1.02837067, 1.56645725,\n",
       "        1.14849466, 0.87217962, 0.95561749, 0.83879293, 1.35196823,\n",
       "        0.94764732, 1.02408858, 0.83938036, 0.94548073, 0.89655815]])"
      ]
     },
     "execution_count": 23,
     "metadata": {},
     "output_type": "execute_result"
    }
   ],
   "source": [
    "np.exp(model.coef_)"
   ]
  },
  {
   "cell_type": "code",
   "execution_count": 21,
   "metadata": {},
   "outputs": [
    {
     "data": {
      "image/png": "[encoded data removed]",
      "text/plain": [
       "<Figure size 432x288 with 1 Axes>"
      ]
     },
     "metadata": {
      "needs_background": "light"
     },
     "output_type": "display_data"
    }
   ],
   "source": [
    "plt.plot(model.coef_[0], '.');"
   ]
  },
  {
   "cell_type": "markdown",
   "metadata": {},
   "source": [
    "# Logistic regression with l1 penalty \n",
    "Hint change solver to \"saga\""
   ]
  },
  {
   "cell_type": "code",
   "execution_count": 24,
   "metadata": {},
   "outputs": [],
   "source": [
    "model_l1 = LogisticRegression(penalty='l1', solver='saga', max_iter=1000)"
   ]
  },
  {
   "cell_type": "code",
   "execution_count": 25,
   "metadata": {},
   "outputs": [
    {
     "data": {
      "text/plain": [
       "LogisticRegression(max_iter=1000, penalty='l1', solver='saga')"
      ]
     },
     "execution_count": 25,
     "metadata": {},
     "output_type": "execute_result"
    }
   ],
   "source": [
    "model_l1.fit(X_train, y_train)"
   ]
  },
  {
   "cell_type": "code",
   "execution_count": 26,
   "metadata": {},
   "outputs": [
    {
     "data": {
      "text/plain": [
       "0.775"
      ]
     },
     "execution_count": 26,
     "metadata": {},
     "output_type": "execute_result"
    }
   ],
   "source": [
    "roc_auc_score(y_test, model_l1.predict(X_test))"
   ]
  },
  {
   "cell_type": "code",
   "execution_count": 30,
   "metadata": {},
   "outputs": [
    {
     "data": {
      "text/plain": [
       "<matplotlib.legend.Legend at 0x7fc568986520>"
      ]
     },
     "execution_count": 30,
     "metadata": {},
     "output_type": "execute_result"
    },
    {
     "data": {
      "image/png": "[encoded data removed]",
      "text/plain": [
       "<Figure size 432x288 with 1 Axes>"
      ]
     },
     "metadata": {
      "needs_background": "light"
     },
     "output_type": "display_data"
    }
   ],
   "source": [
    "plt.plot(model.coef_[0], 'ob', label='l2');\n",
    "plt.plot(model_l1.coef_[0], 'or', label='l1');\n",
    "plt.xticks(np.arange(0, 20));\n",
    "plt.legend()\n"
   ]
  },
  {
   "cell_type": "markdown",
   "metadata": {},
   "source": [
    "# Create a pipeline"
   ]
  },
  {
   "cell_type": "code",
   "execution_count": 33,
   "metadata": {},
   "outputs": [
    {
     "name": "stdout",
     "output_type": "stream",
     "text": [
      "0.04847776213790114\n",
      "1.229791536909913\n"
     ]
    }
   ],
   "source": [
    "print(X.mean())\n",
    "print(X.std())"
   ]
  },
  {
   "cell_type": "code",
   "execution_count": 35,
   "metadata": {},
   "outputs": [],
   "source": [
    "from sklearn.pipeline import make_pipeline\n",
    "from sklearn.preprocessing import StandardScaler"
   ]
  },
  {
   "cell_type": "code",
   "execution_count": 36,
   "metadata": {},
   "outputs": [],
   "source": [
    "pipeline = make_pipeline(StandardScaler(), LogisticRegression())"
   ]
  },
  {
   "cell_type": "code",
   "execution_count": 37,
   "metadata": {},
   "outputs": [
    {
     "data": {
      "text/plain": [
       "Pipeline(steps=[('standardscaler', StandardScaler()),\n",
       "                ('logisticregression', LogisticRegression())])"
      ]
     },
     "execution_count": 37,
     "metadata": {},
     "output_type": "execute_result"
    }
   ],
   "source": [
    "pipeline"
   ]
  },
  {
   "cell_type": "code",
   "execution_count": 38,
   "metadata": {},
   "outputs": [
    {
     "data": {
      "text/plain": [
       "Pipeline(steps=[('standardscaler', StandardScaler()),\n",
       "                ('logisticregression', LogisticRegression())])"
      ]
     },
     "execution_count": 38,
     "metadata": {},
     "output_type": "execute_result"
    }
   ],
   "source": [
    "pipeline.fit(X_train, y_train)"
   ]
  },
  {
   "cell_type": "code",
   "execution_count": 39,
   "metadata": {},
   "outputs": [
    {
     "data": {
      "text/plain": [
       "0.7374999999999999"
      ]
     },
     "execution_count": 39,
     "metadata": {},
     "output_type": "execute_result"
    }
   ],
   "source": [
    "roc_auc_score(y_test, pipeline.predict(X_test))"
   ]
  },
  {
   "cell_type": "markdown",
   "metadata": {},
   "source": [
    "# Cross-validation "
   ]
  },
  {
   "cell_type": "code",
   "execution_count": 40,
   "metadata": {},
   "outputs": [],
   "source": [
    "from sklearn.model_selection import (StratifiedShuffleSplit,\n",
    "                                     cross_val_score)"
   ]
  },
  {
   "cell_type": "code",
   "execution_count": 41,
   "metadata": {},
   "outputs": [],
   "source": [
    "cv = StratifiedShuffleSplit(n_splits=5, test_size=0.2, \n",
    "                            random_state=234326)"
   ]
  },
  {
   "cell_type": "code",
   "execution_count": 42,
   "metadata": {},
   "outputs": [
    {
     "data": {
      "text/plain": [
       "<generator object BaseShuffleSplit.split at 0x7fc59848ae40>"
      ]
     },
     "execution_count": 42,
     "metadata": {},
     "output_type": "execute_result"
    }
   ],
   "source": [
    "cv.split(X, y)"
   ]
  },
  {
   "cell_type": "code",
   "execution_count": 43,
   "metadata": {},
   "outputs": [
    {
     "name": "stdout",
     "output_type": "stream",
     "text": [
      "[159 180 349 207  78 255 360 185  68  99 376 276 383  14 377 247 186 176\n",
      " 302 143 326 111 273 244 187 217 223 157 220  36 112 337 292 115  44   9\n",
      " 395 142  46 336  62 355 338  86 163  21 234 329  27 301  79 121 316 354\n",
      " 118 215 282  56  65  87 260 264 259 193 284 167  45 178 339 235  32  75\n",
      " 184 278 241 219  66 212 173  88]\n",
      "[ 66 273  67 120  65 171 364 173 136 180  17 329 109 325 378 215 277   4\n",
      " 387  53 107 235  70  98 342 244 124 212  88 279 176  31 149 175 161 200\n",
      " 311 145  40 344 326 355  59 207 111  58 233 178  42 147 257 196 294 123\n",
      "  92 174 143 126  76 236  90 157 260 289 208  75 163 160 339 332 221 177\n",
      " 276 117  26  27 142 104 259  29]\n",
      "[321  35 182  46  66 216 142 193 112 102  57 302  83 253 174  29 143 275\n",
      " 329  72 206 368 158 130 243 291 255  26 233  96 355 177 160 176  91  20\n",
      " 384 148  79  47 196 373  16  58 332  98  92 240  54 188 167 388  73 294\n",
      "  90 292  87  94 280 378 159 385 203 277 330 251 310 351 139 226 145  89\n",
      " 126 320 265 210 390 323  97  84]\n",
      "[ 61 155 398 270 135  94  54   6  87 219 266  67  45 366 149  86  20 391\n",
      "  18 158  44   1 212 394 180 137 157 214  76 306  90 200 277 118  22  92\n",
      " 323 159  98 264 188 220 377  16 395   7 248 146 222 141 397   0 365 143\n",
      " 150 144  37 103  75 196 246 346  56 339 225 174 133 283 317 341 168 330\n",
      "  33 340 352  80 202 107 376 134]\n",
      "[ 48  18 250   0  58 266 351 363 220 207 247 325 356  57 334 160  21 211\n",
      "  26 317  66 162  41 179 141 195 111 225 205   9 330  63 122 335  81 367\n",
      " 342   6 251 103  22 292 275  89 227 196 350 320  73 201 183 143  84 238\n",
      " 209 224 136 328 277 318 206 182 127 123  53 124 174 142 187 213  90 319\n",
      " 263 369  62 121 278 358 368 119]\n"
     ]
    }
   ],
   "source": [
    "for train_idx, test_idx in cv.split(X, y):\n",
    "    print(test_idx)"
   ]
  },
  {
   "cell_type": "code",
   "execution_count": 44,
   "metadata": {},
   "outputs": [],
   "source": [
    "scores = cross_val_score(pipeline, X, y, cv=cv, scoring=\"roc_auc\")"
   ]
  },
  {
   "cell_type": "code",
   "execution_count": 45,
   "metadata": {},
   "outputs": [
    {
     "data": {
      "text/plain": [
       "array([0.801875, 0.754375, 0.698125, 0.7925  , 0.74875 ])"
      ]
     },
     "execution_count": 45,
     "metadata": {},
     "output_type": "execute_result"
    }
   ],
   "source": [
    "scores"
   ]
  },
  {
   "cell_type": "code",
   "execution_count": 46,
   "metadata": {},
   "outputs": [
    {
     "data": {
      "text/plain": [
       "0.7591249999999999"
      ]
     },
     "execution_count": 46,
     "metadata": {},
     "output_type": "execute_result"
    }
   ],
   "source": [
    "scores.mean()"
   ]
  },
  {
   "cell_type": "code",
   "execution_count": 47,
   "metadata": {},
   "outputs": [
    {
     "data": {
      "text/plain": [
       "0.03685825891167406"
      ]
     },
     "execution_count": 47,
     "metadata": {},
     "output_type": "execute_result"
    }
   ],
   "source": [
    "scores.std()"
   ]
  },
  {
   "cell_type": "code",
   "execution_count": 48,
   "metadata": {},
   "outputs": [],
   "source": [
    "stdscl = StandardScaler()"
   ]
  },
  {
   "cell_type": "code",
   "execution_count": 49,
   "metadata": {},
   "outputs": [
    {
     "data": {
      "text/plain": [
       "StandardScaler()"
      ]
     },
     "execution_count": 49,
     "metadata": {},
     "output_type": "execute_result"
    }
   ],
   "source": [
    "stdscl.fit(X)"
   ]
  },
  {
   "cell_type": "code",
   "execution_count": 50,
   "metadata": {},
   "outputs": [
    {
     "data": {
      "text/plain": [
       "array([1.69331248, 1.48752599, 0.95044558, 0.93687538, 0.96746324,\n",
       "       0.99522461, 0.97867092, 0.97119308, 0.9031551 , 1.60275499,\n",
       "       1.03067526, 0.98991225, 0.91576177, 1.00574026, 1.548512  ,\n",
       "       1.88469943, 1.05514967, 0.96435324, 1.00411708, 1.28750254])"
      ]
     },
     "execution_count": 50,
     "metadata": {},
     "output_type": "execute_result"
    }
   ],
   "source": [
    "stdscl.scale_"
   ]
  },
  {
   "cell_type": "code",
   "execution_count": 51,
   "metadata": {},
   "outputs": [
    {
     "data": {
      "text/plain": [
       "array([-0.04529135, -0.54250006,  0.04172557, -0.0475451 , -0.10604623,\n",
       "        0.04313583,  0.06551255, -0.03673796, -0.02657711,  0.54552966,\n",
       "        0.02521984,  0.04041969,  0.04325657, -0.02899043,  0.10541518,\n",
       "        0.99634323, -0.03549314,  0.02731322,  0.08906314, -0.18419789])"
      ]
     },
     "execution_count": 51,
     "metadata": {},
     "output_type": "execute_result"
    }
   ],
   "source": [
    "stdscl.mean_"
   ]
  },
  {
   "cell_type": "code",
   "execution_count": 57,
   "metadata": {
    "jupyter": {
     "outputs_hidden": false
    },
    "pycharm": {
     "name": "#%%\n"
    }
   },
   "outputs": [
    {
     "data": {
      "text/plain": [
       "array([[0.44520386, 0.55479614],\n",
       "       [0.33062123, 0.66937877],\n",
       "       [0.44761688, 0.55238312],\n",
       "       [0.33460162, 0.66539838],\n",
       "       [0.55616509, 0.44383491],\n",
       "       [0.68384969, 0.31615031],\n",
       "       [0.62594683, 0.37405317],\n",
       "       [0.35375108, 0.64624892],\n",
       "       [0.23859072, 0.76140928],\n",
       "       [0.12613637, 0.87386363]])"
      ]
     },
     "execution_count": 57,
     "metadata": {},
     "output_type": "execute_result"
    }
   ],
   "source": [
    "pipeline.predict_proba(X_test[:10])"
   ]
  },
  {
   "cell_type": "markdown",
   "metadata": {},
   "source": [
    "# Plot a roc curve?"
   ]
  },
  {
   "cell_type": "code",
   "execution_count": 65,
   "metadata": {},
   "outputs": [],
   "source": [
    "from sklearn.metrics import plot_roc_curve, plot_precision_recall_curve, plot_confusion_matrix, confusion_matrix"
   ]
  },
  {
   "cell_type": "code",
   "execution_count": 60,
   "metadata": {},
   "outputs": [
    {
     "data": {
      "text/plain": [
       "<sklearn.metrics._plot.roc_curve.RocCurveDisplay at 0x7fc5aa74bee0>"
      ]
     },
     "execution_count": 60,
     "metadata": {},
     "output_type": "execute_result"
    },
    {
     "data": {
      "image/png": "[encoded data removed]",
      "text/plain": [
       "<Figure size 432x288 with 1 Axes>"
      ]
     },
     "metadata": {
      "needs_background": "light"
     },
     "output_type": "display_data"
    }
   ],
   "source": [
    "plot_roc_curve(pipeline, X, y)"
   ]
  },
  {
   "cell_type": "code",
   "execution_count": 61,
   "metadata": {},
   "outputs": [
    {
     "data": {
      "text/plain": [
       "<sklearn.metrics._plot.precision_recall_curve.PrecisionRecallDisplay at 0x7fc59844cd90>"
      ]
     },
     "execution_count": 61,
     "metadata": {},
     "output_type": "execute_result"
    },
    {
     "data": {
      "image/png": "[encoded data removed]",
      "text/plain": [
       "<Figure size 432x288 with 1 Axes>"
      ]
     },
     "metadata": {
      "needs_background": "light"
     },
     "output_type": "display_data"
    }
   ],
   "source": [
    "plot_precision_recall_curve(pipeline, X, y)"
   ]
  },
  {
   "cell_type": "code",
   "execution_count": 64,
   "metadata": {},
   "outputs": [
    {
     "data": {
      "text/plain": [
       "<sklearn.metrics._plot.confusion_matrix.ConfusionMatrixDisplay at 0x7fc5aa930b20>"
      ]
     },
     "execution_count": 64,
     "metadata": {},
     "output_type": "execute_result"
    },
    {
     "data": {
      "image/png": "[encoded data removed]",
      "text/plain": [
       "<Figure size 432x288 with 2 Axes>"
      ]
     },
     "metadata": {
      "needs_background": "light"
     },
     "output_type": "display_data"
    }
   ],
   "source": [
    "plot_confusion_matrix(pipeline, X, y, cmap='binary')"
   ]
  },
  {
   "cell_type": "code",
   "execution_count": 67,
   "metadata": {},
   "outputs": [
    {
     "data": {
      "text/plain": [
       "array([[28, 12],\n",
       "       [ 9, 31]])"
      ]
     },
     "execution_count": 67,
     "metadata": {},
     "output_type": "execute_result"
    }
   ],
   "source": [
    "confusion_matrix(y_test, pipeline.predict(X_test))"
   ]
  },
  {
   "cell_type": "code",
   "execution_count": null,
   "metadata": {},
   "outputs": [],
   "source": []
  },
  {
   "cell_type": "code",
   "execution_count": null,
   "metadata": {},
   "outputs": [],
   "source": []
  },
  {
   "cell_type": "markdown",
   "metadata": {},
   "source": [
    "# Ridge and Lasso\n",
    "\n",
    "Repeat the pipeline from above using a Ridge regression on data generated below. \n",
    "\n",
    "QUESTION: What is difference between Ridge and RidgeCV?"
   ]
  },
  {
   "cell_type": "code",
   "execution_count": 104,
   "metadata": {},
   "outputs": [],
   "source": [
    "X, y, w = make_regression(\n",
    "    n_samples=200, n_features=10, coef=True, random_state=5255, bias=3.5\n",
    ")\n",
    "\n",
    "# w is the wight that the data generating model is build on, i.e. the ground truth"
   ]
  },
  {
   "cell_type": "code",
   "execution_count": 142,
   "metadata": {},
   "outputs": [
    {
     "data": {
      "text/plain": [
       "array([  76.94315458, -143.95740236,   14.55656083, -307.50610571,\n",
       "        -17.26617117, -136.94083572,  -94.73384708,   90.83928015,\n",
       "        111.36963035, -191.95084939,   76.71406338,  172.49444817,\n",
       "        152.97888735,  107.20148079, -206.80081831,  244.10433028,\n",
       "        114.03040016,  -21.28139631,  443.40667329,  105.40134443,\n",
       "        -47.33682052,    9.69022621,  -50.95590968,   61.1504773 ,\n",
       "        119.91582178,  112.7193944 ,  -66.84448955,    3.9175474 ,\n",
       "       -109.46604633,   41.55437755,  -89.27626047, -275.21736493,\n",
       "         14.83085896, -182.48126095,  137.29331797,   -2.29178376,\n",
       "        113.78640088,   79.79796019,  101.92980046,  439.33406119,\n",
       "        146.21848579, -280.41372902,  -15.42208979,  193.47663951,\n",
       "         24.9699717 , -189.03310065,   71.34279561,  -48.32632975,\n",
       "        116.41261537, -284.69570616, -225.27586074,  126.75753864,\n",
       "        171.93351971,  370.59341192, -182.28851055,  573.35137104,\n",
       "         -2.52017853,  371.79806413, -316.39084418,  -46.99459839,\n",
       "        623.31011148,  163.09588252, -259.28788317,  105.51068257,\n",
       "        -28.85156954,   86.87186148,  380.22516673,  122.89759443,\n",
       "         30.29509894, -499.81891752,  132.48720156,   38.83158146,\n",
       "         89.78661023, -336.15060145,   98.5163676 ,  186.92757962,\n",
       "          3.33581217,  -31.24089459,  123.41699187,   58.05768261,\n",
       "        130.44463344,  -89.28910583,  100.37938534,  206.93419432,\n",
       "         85.59301473,   10.29816129,  -95.51294738,  -51.40679308,\n",
       "       -289.60137314,  -79.8077517 , -493.76097076, -464.5508379 ,\n",
       "       -463.41530668,  235.70201536,  126.86782698, -117.74449273,\n",
       "       -307.36362287,   88.33500246,  117.90808226,  294.24769725,\n",
       "         56.22337997,  315.48126562,  294.92022819,  -25.38625396,\n",
       "         10.63147091,  139.80864435,   96.79312782, -289.443608  ,\n",
       "        131.9511944 ,  150.17348276, -133.51138489, -148.74679298,\n",
       "        -40.7247723 ,  -35.19725462,   75.48433348,  -67.00554298,\n",
       "        143.21387776,  -80.43366271, -253.26582815,  120.06545868,\n",
       "       -249.88954339,  197.20711232, -101.95365585, -159.83837327,\n",
       "       -238.45690634,  297.30981029,  100.11457291,  159.79930703,\n",
       "         22.14118185, -470.81159511, -320.66506072,  410.97550641,\n",
       "        -43.11163797,  493.64055827, -307.48707813,  115.56991581,\n",
       "        -13.91274996,  -71.04483747,  118.59760362, -129.94085841,\n",
       "        -85.39627422,  -82.44534998,  122.1517396 ,  109.46822956,\n",
       "       -165.0021174 , -341.25975572,  134.87536814, -163.44676902,\n",
       "        295.33163787, -345.59492261, -169.23318962,  382.78450426,\n",
       "       -111.25082036,   30.68181586,  -31.75717964,   77.38862248,\n",
       "        707.89859413,  304.33117327, -110.431031  , -108.40453548,\n",
       "         66.22729701,  -23.24602161,  -76.98860229,   20.75643645,\n",
       "        155.08150862,  108.12628886,   85.16511224,   18.27913677,\n",
       "          3.24815743,  524.18420026, -124.95852879,  137.87227656,\n",
       "        -43.52368875, -459.42643484,  -96.49158664,  367.90576479,\n",
       "       -238.93285339, -188.19742799,  182.48573944,  274.12786186,\n",
       "        -14.65037793, -205.0453868 ,  -98.59449137,  188.8875463 ,\n",
       "        149.42431494, -188.65422362,   36.32550866,  -17.62510629,\n",
       "        211.09175881,  237.01505163,  188.51687196,  -93.29016649,\n",
       "       -179.02575089, -119.0741013 ,   31.40616268,   32.82626858,\n",
       "       -139.95065314,   65.88298389,  244.27185761, -329.83502082])"
      ]
     },
     "execution_count": 142,
     "metadata": {},
     "output_type": "execute_result"
    }
   ],
   "source": [
    "y"
   ]
  },
  {
   "cell_type": "code",
   "execution_count": 114,
   "metadata": {},
   "outputs": [],
   "source": [
    "from sklearn.linear_model import Ridge, RidgeCV, LinearRegression\n",
    "from sklearn.metrics import mean_squared_error"
   ]
  },
  {
   "cell_type": "code",
   "execution_count": 132,
   "metadata": {},
   "outputs": [],
   "source": [
    "ridge_pipeline = make_pipeline(StandardScaler(), Ridge())"
   ]
  },
  {
   "cell_type": "code",
   "execution_count": 133,
   "metadata": {},
   "outputs": [],
   "source": [
    "X_train, X_test, y_train, y_test = train_test_split(\n",
    "    X, y, test_size=0.2, random_state=456)"
   ]
  },
  {
   "cell_type": "code",
   "execution_count": 134,
   "metadata": {},
   "outputs": [
    {
     "data": {
      "text/plain": [
       "Pipeline(steps=[('standardscaler', StandardScaler()), ('ridge', Ridge())])"
      ]
     },
     "execution_count": 134,
     "metadata": {},
     "output_type": "execute_result"
    }
   ],
   "source": [
    "ridge_pipeline.fit(X_train, y_train)"
   ]
  },
  {
   "cell_type": "code",
   "execution_count": 147,
   "metadata": {},
   "outputs": [
    {
     "data": {
      "text/plain": [
       "array([100.94543718,  49.66410964,  64.76144617,  69.85043691,\n",
       "        24.74008178,  27.49938382,  23.88906916,  64.85750593,\n",
       "       101.61477608,  85.82346506])"
      ]
     },
     "execution_count": 147,
     "metadata": {},
     "output_type": "execute_result"
    }
   ],
   "source": [
    "ridge_pipeline.named_steps['ridge'].coef_"
   ]
  },
  {
   "cell_type": "code",
   "execution_count": 136,
   "metadata": {},
   "outputs": [
    {
     "data": {
      "text/plain": [
       "array([98.8291441 , 46.4276265 , 68.19611763, 68.15165026, 26.85804853,\n",
       "       28.31476062, 24.32733533, 64.33254665, 99.28400279, 93.54902659])"
      ]
     },
     "execution_count": 136,
     "metadata": {},
     "output_type": "execute_result"
    }
   ],
   "source": [
    "w"
   ]
  },
  {
   "cell_type": "code",
   "execution_count": 148,
   "metadata": {},
   "outputs": [],
   "source": [
    "mse = mean_squared_error(y_test, ridge_pipeline.predict(X_test))"
   ]
  },
  {
   "cell_type": "code",
   "execution_count": 149,
   "metadata": {},
   "outputs": [
    {
     "data": {
      "text/plain": [
       "2.5172471856643432"
      ]
     },
     "execution_count": 149,
     "metadata": {},
     "output_type": "execute_result"
    }
   ],
   "source": [
    "mse"
   ]
  },
  {
   "cell_type": "code",
   "execution_count": 145,
   "metadata": {},
   "outputs": [
    {
     "data": {
      "text/plain": [
       "15.391032946647318"
      ]
     },
     "execution_count": 145,
     "metadata": {},
     "output_type": "execute_result"
    }
   ],
   "source": [
    "y_test.mean()"
   ]
  },
  {
   "cell_type": "code",
   "execution_count": 141,
   "metadata": {},
   "outputs": [
    {
     "data": {
      "text/plain": [
       "<matplotlib.legend.Legend at 0x7fc56a32a3d0>"
      ]
     },
     "execution_count": 141,
     "metadata": {},
     "output_type": "execute_result"
    },
    {
     "data": {
      "image/png": "[encoded data removed]",
      "text/plain": [
       "<Figure size 432x288 with 1 Axes>"
      ]
     },
     "metadata": {
      "needs_background": "light"
     },
     "output_type": "display_data"
    }
   ],
   "source": [
    "plt.plot(y[:20], 'bo', label='y')\n",
    "plt.plot(ridge_model.predict(X_test[:20]), 'ro', label='predicted')\n",
    "plt.legend()"
   ]
  },
  {
   "cell_type": "code",
   "execution_count": null,
   "metadata": {},
   "outputs": [],
   "source": []
  },
  {
   "cell_type": "code",
   "execution_count": null,
   "metadata": {},
   "outputs": [],
   "source": []
  }
 ],
 "metadata": {
  "kernelspec": {
   "display_name": "Python 3",
   "language": "python",
   "name": "python3"
  },
  "language_info": {
   "codemirror_mode": {
    "name": "ipython",
    "version": 3
   },
   "file_extension": ".py",
   "mimetype": "text/x-python",
   "name": "python",
   "nbconvert_exporter": "python",
   "pygments_lexer": "ipython3",
   "version": "3.8.3"
  }
 },
 "nbformat": 4,
 "nbformat_minor": 4
}

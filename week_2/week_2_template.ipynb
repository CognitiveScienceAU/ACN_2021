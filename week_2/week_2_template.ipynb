{
 "cells": [
  {
   "cell_type": "code",
   "execution_count": null,
   "id": "cacd67ad",
   "metadata": {},
   "outputs": [],
   "source": [
    "%matplotlib inline"
   ]
  },
  {
   "cell_type": "code",
   "execution_count": null,
   "id": "b35907c0",
   "metadata": {},
   "outputs": [],
   "source": [
    "import mne\n",
    "import os\n",
    "import numpy as np\n"
   ]
  },
  {
   "cell_type": "code",
   "execution_count": null,
   "id": "ec61c584",
   "metadata": {},
   "outputs": [],
   "source": [
    "sample_data_folder = mne.datasets.sample.data_path()\n",
    "sample_data_raw_file = os.path.join(sample_data_folder, 'MEG', 'sample',\n",
    "                                    'sample_audvis_filt-0-40_raw.fif')"
   ]
  },
  {
   "cell_type": "code",
   "execution_count": null,
   "id": "b6dc94a5",
   "metadata": {},
   "outputs": [],
   "source": [
    "raw = mne.io.read_raw_fif(sample_data_raw_file)"
   ]
  },
  {
   "cell_type": "code",
   "execution_count": null,
   "id": "1185684c",
   "metadata": {},
   "outputs": [],
   "source": [
    "raw.pick_types(meg=False, eeg=True, stim=True)"
   ]
  },
  {
   "cell_type": "code",
   "execution_count": null,
   "id": "f8421e06",
   "metadata": {},
   "outputs": [],
   "source": [
    "# filter your data"
   ]
  },
  {
   "cell_type": "code",
   "execution_count": null,
   "id": "16a1e6c1",
   "metadata": {},
   "outputs": [],
   "source": [
    "# highpass: 0.1 | 0.5 Hz\n",
    "# lowpass: 40Hz\n"
   ]
  },
  {
   "cell_type": "code",
   "execution_count": null,
   "id": "db1c225b",
   "metadata": {},
   "outputs": [],
   "source": [
    "# set up and fit the ICA\n",
    "ica = mne.preprocessing.ICA(n_components=20, random_state=97, max_iter=800)\n",
    "ica.fit(raw)\n",
    "ica.exclude = [0, 2]  # details on how we picked these are omitted here\n",
    "ica.plot_properties(raw, picks=ica.exclude);"
   ]
  },
  {
   "cell_type": "code",
   "execution_count": null,
   "id": "4eabdaca",
   "metadata": {},
   "outputs": [],
   "source": [
    "ica.plot_components();"
   ]
  },
  {
   "cell_type": "code",
   "execution_count": null,
   "id": "052ce915",
   "metadata": {},
   "outputs": [],
   "source": [
    "orig_raw = raw.copy()\n",
    "raw.load_data()\n",
    "ica.apply(raw)"
   ]
  },
  {
   "cell_type": "code",
   "execution_count": null,
   "id": "02b51d68-6110-4d72-9e08-cf0cceb7b23d",
   "metadata": {
    "collapsed": false,
    "jupyter": {
     "outputs_hidden": false
    },
    "pycharm": {
     "name": "#%%\n"
    }
   },
   "outputs": [],
   "source": [
    "# the stimulus channel on the Electra vector view is: STI 014\n",
    "events = ???"
   ]
  },
  {
   "cell_type": "code",
   "execution_count": null,
   "id": "a43d112d",
   "metadata": {},
   "outputs": [],
   "source": [
    "event_dict = {'auditory/left': 1,\n",
    "              'auditory/right': 2,\n",
    "              'visual/left': 3,\n",
    "              'visual/right': 4,\n",
    "              }"
   ]
  },
  {
   "cell_type": "code",
   "execution_count": null,
   "id": "7b1936f4",
   "metadata": {},
   "outputs": [],
   "source": [
    "reject_criteria = dict(eeg=150e-6)  # 150 µV\n"
   ]
  },
  {
   "cell_type": "code",
   "execution_count": null,
   "id": "f0f9bf1a",
   "metadata": {
    "pycharm": {
     "name": "#%%\n"
    }
   },
   "outputs": [],
   "source": [
    "conds_we_care_about = ['auditory/left', 'auditory/right',\n",
    "                       'visual/left', 'visual/right']"
   ]
  }
 ],
 "metadata": {
  "kernelspec": {
   "display_name": "Python 3",
   "language": "python",
   "name": "python3"
  },
  "language_info": {
   "codemirror_mode": {
    "name": "ipython",
    "version": 3
   },
   "file_extension": ".py",
   "mimetype": "text/x-python",
   "name": "python",
   "nbconvert_exporter": "python",
   "pygments_lexer": "ipython3",
   "version": "3.8.3"
  }
 },
 "nbformat": 4,
 "nbformat_minor": 5
}
